{
  "nbformat": 4,
  "nbformat_minor": 0,
  "metadata": {
    "colab": {
      "provenance": []
    },
    "kernelspec": {
      "name": "python3",
      "display_name": "Python 3"
    },
    "language_info": {
      "name": "python"
    }
  },
  "cells": [
    {
      "cell_type": "markdown",
      "source": [
        "##Importing the necessary libraries##"
      ],
      "metadata": {
        "id": "q4k6Rslf2vE1"
      }
    },
    {
      "cell_type": "code",
      "execution_count": null,
      "metadata": {
        "id": "-uV_rI9N2CnE",
        "colab": {
          "base_uri": "https://localhost:8080/"
        },
        "outputId": "7ac9e05a-8795-464a-86e0-fda01270605b"
      },
      "outputs": [
        {
          "output_type": "stream",
          "name": "stdout",
          "text": [
            "Drive already mounted at /content/gdrive; to attempt to forcibly remount, call drive.mount(\"/content/gdrive\", force_remount=True).\n"
          ]
        }
      ],
      "source": [
        "import matplotlib.pyplot as plt\n",
        "from timeit import default_timer as timer\n",
        "from google.colab import drive\n",
        "drive.mount('/content/gdrive')\n",
        "import random\n",
        "import matplotlib.patches as patches\n",
        "from matplotlib.patches import Rectangle\n",
        "import numpy as np\n",
        "import random"
      ]
    },
    {
      "cell_type": "code",
      "source": [
        "def take_input(file_path):\n",
        "    with open(file_path, 'r') as file:\n",
        "        lines = file.readlines()\n",
        "        num_blocks = int(lines[0].split('=')[1])\n",
        "\n",
        "        # Reading adjacency matrix\n",
        "        adj= np.zeros((num_blocks, num_blocks), dtype=int)\n",
        "        for i, line in enumerate(lines[2:num_blocks+2]):  # Fix the index here\n",
        "            if line.strip():  # Check if line is not empty\n",
        "                adj[i] = list(map(int, line.strip('{}\\n').split()))\n",
        "\n",
        "        # Reading blocks data\n",
        "        blocks = []\n",
        "        for line in lines[num_blocks+1:num_blocks*2+3]:  # Fix the index here\n",
        "            block_info = line.strip('{}\\n').split()\n",
        "            if len(block_info) == 3:\n",
        "                blocks.append((block_info[0], float(block_info[1]), float(block_info[2]),float(block_info[2])*float(block_info[1])))\n",
        "                #passing area of the block as well to avoid recalculation.\n",
        "\n",
        "        # Reading Polish expression\n",
        "        polish_expression = lines[num_blocks*2+4].strip()  # Fix the index here\n",
        "        return num_blocks,adj,blocks,polish_expression"
      ],
      "metadata": {
        "id": "Uf6VX_7if4A1"
      },
      "execution_count": null,
      "outputs": []
    },
    {
      "cell_type": "code",
      "source": [
        "def find_floorplan_area(pe,num_blocks,blocks):\n",
        "  #print(blocks)\n",
        "  global area\n",
        "  curmax=num_blocks\n",
        "  stack=[]\n",
        "  for c in pe:\n",
        "    if c.isdigit():\n",
        "      stack.append(int(c))\n",
        "    elif c=='V':\n",
        "      el1=stack.pop()\n",
        "      el2=stack.pop()\n",
        "      el1-=1\n",
        "      el2-=1\n",
        "      curht=max(blocks[el1][2],blocks[el2][2])\n",
        "      curwid=blocks[el2][1]+blocks[el1][1]\n",
        "      curmax+=1\n",
        "      blocks.append((curmax, float(curwid), float(curht), float(curwid) * float(curht)))\n",
        "\n",
        "      stack.append(curmax)\n",
        "    elif c=='H':\n",
        "      el1=stack.pop()\n",
        "      el2=stack.pop()\n",
        "      el1-=1\n",
        "      el2-=1\n",
        "      curwd=max(blocks[el1][1],blocks[el2][1])\n",
        "      curht=blocks[el2][2]+blocks[el1][2]\n",
        "      curmax+=1\n",
        "      blocks.append((curmax, float(curwid), float(curht), float(curwid) * float(curht)))\n",
        "      stack.append(curmax)\n",
        "  area=blocks[-1][3]"
      ],
      "metadata": {
        "id": "5efbAb-QtliO"
      },
      "execution_count": null,
      "outputs": []
    },
    {
      "cell_type": "code",
      "source": [
        "def find_plot_limits(blocks):\n",
        "  global xmax\n",
        "  xmax=-1\n",
        "  global ymax\n",
        "  ymax=-1\n",
        "  for row in blocks:\n",
        "    xmax=max(xmax,row[1])#max width\n",
        "    ymax=max(ymax,row[2])#max height"
      ],
      "metadata": {
        "id": "dYydxPAffEVT"
      },
      "execution_count": null,
      "outputs": []
    },
    {
      "cell_type": "code",
      "source": [
        "def plot_floorplan_area(blocks, polish_expression,num_blocks):\n",
        "    # Initialize the plot\n",
        "    curmax=num_blocks\n",
        "    fig, ax = plt.subplots()\n",
        "    ax.set_xlim(0, xmax+5)  # Set x-axis limits from 0 to 6\n",
        "    ax.set_ylim(0,ymax+5)  # Set y-axis limits from 0 to 12\n",
        "    ax.set_xlabel('Width')\n",
        "    ax.set_ylabel('Height')\n",
        "    ax.set_title('Floorplan')\n",
        "    x, y = 0, 0\n",
        "    stack=[]\n",
        "    for c in polish_expression:\n",
        "      if c.isdigit():\n",
        "        stack.append(int(c))\n",
        "        c=int(c)\n",
        "        c-=1\n",
        "        curwid=blocks[c][1]\n",
        "        curht=blocks[c][2]\n",
        "        left_bottom=(x,y)\n",
        "        rect = Rectangle(left_bottom, curwid, curht, linewidth=1, edgecolor='r', facecolor='none')\n",
        "        ax.add_patch(rect)\n",
        "      elif c=='H':#horizontal cut.\n",
        "        el1=stack.pop()\n",
        "        el2=stack.pop()\n",
        "        el1-=1\n",
        "        el2-=1\n",
        "        curwid=max(blocks[el1][1],blocks[el2][1])\n",
        "        curht=blocks[el2][2]+blocks[el1][2]\n",
        "        rect = Rectangle(left_bottom, curwid, curht, linewidth=0, edgecolor='none', facecolor='none', alpha=0)\n",
        "        x+=curwid\n",
        "        y+=curht\n",
        "        curmax+=1\n",
        "        stack.append(curmax)\n",
        "      elif c=='V':\n",
        "        el1=stack.pop()\n",
        "        el2=stack.pop()\n",
        "        el1-=1\n",
        "        el2-=1\n",
        "        curht=max(blocks[el1][2],blocks[el2][2])\n",
        "        curwid=blocks[el2][1]+blocks[el1][1]\n",
        "        rect = Rectangle(left_bottom, curwid, curht, linewidth=0, edgecolor='none', facecolor='none', alpha=0)\n",
        "        x+=curwid\n",
        "        y+=curht\n",
        "        curmax+=1\n",
        "        stack.append(curmax)\n",
        "    plt.grid(True)\n",
        "    plt.show()"
      ],
      "metadata": {
        "id": "ZgCQyB_WWQWf"
      },
      "execution_count": null,
      "outputs": []
    },
    {
      "cell_type": "code",
      "source": [
        "def main():\n",
        "  file_path=\"/content/gdrive/MyDrive/test_data.txt\"\n",
        "  num_blocks, adj, blocks, polish_expression =take_input(file_path)\n",
        "  #print(blocks[1][2])\n",
        "  find_plot_limits(blocks)\n",
        "  find_floorplan_area(polish_expression,num_blocks,blocks)\n",
        "  #print(area) this is the size of the min floorplan.\n",
        "  plot_floorplan_area(blocks,polish_expression,num_blocks)"
      ],
      "metadata": {
        "id": "As5e2TPcFzp9"
      },
      "execution_count": null,
      "outputs": []
    },
    {
      "cell_type": "code",
      "source": [
        "main()"
      ],
      "metadata": {
        "colab": {
          "base_uri": "https://localhost:8080/",
          "height": 472
        },
        "id": "xTrY35bLdxxq",
        "outputId": "564b6bad-eac4-4f82-d28d-529f6ae585ae"
      },
      "execution_count": null,
      "outputs": [
        {
          "output_type": "display_data",
          "data": {
            "text/plain": [
              "<Figure size 640x480 with 1 Axes>"
            ],
            "image/png": "[encoded data removed]"
          },
          "metadata": {}
        }
      ]
    },
    {
      "cell_type": "code",
      "source": [],
      "metadata": {
        "id": "RZ-eYGLDhFCo"
      },
      "execution_count": null,
      "outputs": []
    }
  ]
}