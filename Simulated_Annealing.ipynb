{
  "nbformat": 4,
  "nbformat_minor": 0,
  "metadata": {
    "colab": {
      "provenance": []
    },
    "kernelspec": {
      "name": "python3",
      "display_name": "Python 3"
    },
    "language_info": {
      "name": "python"
    }
  },
  "cells": [
    {
      "cell_type": "markdown",
      "source": [
        "##Importing the necessary libraries##"
      ],
      "metadata": {
        "id": "q4k6Rslf2vE1"
      }
    },
    {
      "cell_type": "code",
      "execution_count": 196,
      "metadata": {
        "id": "-uV_rI9N2CnE",
        "colab": {
          "base_uri": "https://localhost:8080/"
        },
        "outputId": "89bbae7f-15e0-4f0f-c59b-e28e987e06c0"
      },
      "outputs": [
        {
          "output_type": "stream",
          "name": "stdout",
          "text": [
            "Drive already mounted at /content/gdrive; to attempt to forcibly remount, call drive.mount(\"/content/gdrive\", force_remount=True).\n"
          ]
        }
      ],
      "source": [
        "import matplotlib.pyplot as plt\n",
        "from timeit import default_timer as timer\n",
        "from google.colab import drive\n",
        "drive.mount('/content/gdrive')\n",
        "import random\n",
        "import matplotlib.patches as patches\n",
        "from matplotlib.patches import Rectangle\n",
        "import numpy as np\n",
        "import random"
      ]
    },
    {
      "cell_type": "code",
      "source": [
        "class Rectangle:\n",
        "    def __init__(self, x=0, y=0, width=0, height=0):\n",
        "        self.x = x\n",
        "        self.y = y\n",
        "        self.width = width\n",
        "        self.height = height\n",
        "\n",
        "class Node:\n",
        "    def __init__(self, value, width=None, height=None):\n",
        "        self.value = value\n",
        "        self.width = width\n",
        "        self.height = height\n",
        "        self.left = None\n",
        "        self.right = None\n",
        "\n",
        "class FloorplanDetails:\n",
        "    def __init__(self):\n",
        "        self.max_x = 0\n",
        "        self.max_y = 0\n",
        "        self.enclosed_area = 0\n",
        "        self.wiring = 0"
      ],
      "metadata": {
        "id": "3gjVpzOXdizH"
      },
      "execution_count": 233,
      "outputs": []
    },
    {
      "cell_type": "code",
      "source": [
        "def take_input(file_path):\n",
        "    with open(file_path, 'r') as file:\n",
        "        lines = file.readlines()\n",
        "        num_blocks = int(lines[0].split('=')[1])\n",
        "\n",
        "        # Reading adjacency matrix\n",
        "        adj= np.zeros((num_blocks, num_blocks), dtype=int)\n",
        "        for i, line in enumerate(lines[2:num_blocks+2]):  # Fix the index here\n",
        "            if line.strip():  # Check if line is not empty\n",
        "                adj[i] = list(map(int, line.strip('{}\\n').split()))\n",
        "\n",
        "        # Reading blocks data\n",
        "        blocks = []\n",
        "        for line in lines[num_blocks+1:num_blocks*2+3]:  # Fix the index here\n",
        "            block_info = line.strip('{}\\n').split()\n",
        "            if len(block_info) == 3:\n",
        "                blocks.append((block_info[0], float(block_info[1]), float(block_info[2]),float(block_info[2])*float(block_info[1])))\n",
        "                #passing area of the block as well to avoid recalculation.\n",
        "\n",
        "        # Reading Polish expression\n",
        "        polish_expression = lines[num_blocks*2+4].strip()  # Fix the index here\n",
        "        return num_blocks,adj,blocks,polish_expression"
      ],
      "metadata": {
        "id": "Uf6VX_7if4A1"
      },
      "execution_count": 234,
      "outputs": []
    },
    {
      "cell_type": "code",
      "source": [
        "\n",
        "def find_floorplan_area(pe,num_blocks,blocks):\n",
        "  global area\n",
        "  area=0\n",
        "  #print(blocks)\n",
        "  curmax=num_blocks\n",
        "  stack=[]\n",
        "  for c in pe:\n",
        "    if c.isdigit():\n",
        "      stack.append(int(c))\n",
        "    elif c=='V':\n",
        "      el1=stack.pop()\n",
        "      el2=stack.pop()\n",
        "      el1-=1\n",
        "      el2-=1\n",
        "      curht=max(blocks[el1][2],blocks[el2][2])\n",
        "      curwid=blocks[el2][1]+blocks[el1][1]\n",
        "      curmax+=1\n",
        "      blocks.append((curmax, float(curwid), float(curht), float(curwid) * float(curht)))\n",
        "\n",
        "      stack.append(curmax)\n",
        "    elif c=='H':\n",
        "      el1=stack.pop()\n",
        "      el2=stack.pop()\n",
        "      el1-=1\n",
        "      el2-=1\n",
        "      curwd=max(blocks[el1][1],blocks[el2][1])\n",
        "      curht=blocks[el2][2]+blocks[el1][2]\n",
        "      curmax+=1\n",
        "      blocks.append((curmax, float(curwid), float(curht), float(curwid) * float(curht)))\n",
        "      stack.append(curmax)\n",
        "  area=blocks[-1][3]"
      ],
      "metadata": {
        "id": "5efbAb-QtliO"
      },
      "execution_count": 283,
      "outputs": []
    },
    {
      "cell_type": "code",
      "source": [
        "\n",
        "def find_plot_limits(blocks):\n",
        "  global xmax, ymax\n",
        "  xmax=-1\n",
        "  ymax=-1\n",
        "  for row in blocks:\n",
        "    #print(row[1],\":\",row[0])\n",
        "    xmax=max(xmax,row[1])#max width\n",
        "    ymax=max(ymax,row[2])#max height"
      ],
      "metadata": {
        "id": "dYydxPAffEVT"
      },
      "execution_count": 284,
      "outputs": []
    },
    {
      "cell_type": "code",
      "source": [
        "def make_binary_tree(polish_expression, blocks):\n",
        "    stack = []\n",
        "    for token in polish_expression:\n",
        "        if token.isnumeric():\n",
        "            # If the token is a number, create a leaf node with block dimensions and push onto the stack\n",
        "            block_id = token\n",
        "            block_data = next(data for data in blocks if data[0] == block_id)\n",
        "            node = Node(value=int(block_id), width=block_data[1], height=block_data[2])  # Corrected assignment\n",
        "            stack.append(node)\n",
        "        elif token == 'H' or token == 'V':\n",
        "            # If the token is an operator, pop the top two nodes and create a new internal node\n",
        "            operand2 = stack.pop()\n",
        "            operand1 = stack.pop()\n",
        "            new_node = Node(value=token)\n",
        "            new_node.left = operand1\n",
        "            new_node.right = operand2\n",
        "            # Update the breadth and height of the new internal node based on the operation\n",
        "            if token == 'H':\n",
        "                new_node.width = max(operand1.width, operand2.width)\n",
        "                new_node.height = operand1.height + operand2.height\n",
        "            elif token == 'V':\n",
        "                new_node.width = operand1.width + operand2.width\n",
        "                new_node.height = max(operand1.height, operand2.height)\n",
        "            stack.append(new_node)\n",
        "\n",
        "    # The top of the stack now contains the root of the tree\n",
        "    return stack[0]"
      ],
      "metadata": {
        "id": "YswlX6i7e5rQ"
      },
      "execution_count": 285,
      "outputs": []
    },
    {
      "cell_type": "code",
      "source": [
        "def print_binary_tree(node, level=1):\n",
        "    if node is not None:\n",
        "        print(\"  \" * level + f\"{node.value} ({node.width}, {node.height})\")\n",
        "        print_binary_tree(node.left, level + 1)\n",
        "        print_binary_tree(node.right, level + 1)"
      ],
      "metadata": {
        "id": "ZzfYSHhpfnlc"
      },
      "execution_count": 286,
      "outputs": []
    },
    {
      "cell_type": "code",
      "source": [
        "def plot_binary_tree(ax, node, x, y, scale):\n",
        "  details = FloorplanDetails()  # To store floorplan details\n",
        "\n",
        "  if node is not None:\n",
        "    if isinstance(node.value, int):\n",
        "            # If it's a leaf node (rectangle), plot the rectangle\n",
        "      rectangle_id = node.value\n",
        "      plot_current_rectangle(ax, x, y, node.width * scale, node.height * scale, rectangle_id, details)\n",
        "    else:\n",
        "            # If it's an internal node (operator), recursively plot its children\n",
        "      left_details = plot_binary_tree(ax, node.left, x, y, scale)\n",
        "      if node.value == 'H':\n",
        "        right_details = plot_binary_tree(ax, node.right, x, y + node.left.height * scale, scale)\n",
        "      elif node.value == 'V':\n",
        "        right_details = plot_binary_tree(ax, node.right, x + node.left.width * scale, y, scale)\n",
        "\n",
        "            # Update floorplan details\n",
        "      details.floorplan = [Rectangle(x, y, node.left.width * scale, node.left.height * scale),\n",
        "                                 Rectangle(x, y, node.right.width * scale, node.right.height * scale)]\n",
        "      details.max_x = max(left_details.max_x, right_details.max_x)\n",
        "      details.max_y = max(left_details.max_y, right_details.max_y)\n",
        "  return details"
      ],
      "metadata": {
        "id": "ZgCQyB_WWQWf"
      },
      "execution_count": 287,
      "outputs": []
    },
    {
      "cell_type": "code",
      "source": [
        "rectangle_centers=[]\n",
        "def plot_current_rectangle(ax, x, y, width, height, rectangle_id, details):\n",
        "    # Generate a random color for the border\n",
        "    border_color = np.random.rand(4,)\n",
        "    curcentre_x=x+(width)/2\n",
        "    curcentre_y=y+(height)/2\n",
        "    rectangle_centers.append((rectangle_id,curcentre_x,curcentre_y))\n",
        "\n",
        "    rect = patches.Rectangle((x, y), width, height, linewidth=1, edgecolor=border_color, facecolor='none')\n",
        "    ax.add_patch(rect)\n",
        "\n",
        "    # Display rectangle ID in the center\n",
        "    ax.text(x + width / 2, y + height / 2, str(rectangle_id),\n",
        "            ha='center', va='center', fontsize=8, color='black')\n",
        "\n",
        "    # Update floorplan details\n",
        "    details.max_x = max(details.max_x, x + width)\n",
        "    details.max_y = max(details.max_y, y + height)\n",
        "\n",
        "def plot_rectangle_centers(ax, centers):\n",
        "    ids, xs, ys = zip(*centers)\n",
        "    ax.scatter(xs, ys, c='red', marker='o', label='Center Points')"
      ],
      "metadata": {
        "id": "8nF5C29dgSD3"
      },
      "execution_count": 288,
      "outputs": []
    },
    {
      "cell_type": "code",
      "source": [
        "def wirelength_estimation(rectangle_centers_one,adj):\n",
        "  global wirelength_total\n",
        "  wirelength_total=0\n",
        "  n=len(adj)\n",
        "  st = set()\n",
        "  for i in range(1, n):\n",
        "    curwirelen = 0\n",
        "    for j in range(1, n):\n",
        "      if (i, j) not in st and i!=j:\n",
        "        curx1 = rectangle_centers_one[i][1]\n",
        "        curx2 = rectangle_centers_one[j][1]\n",
        "        cury1=rectangle_centers_one[i][2]\n",
        "        cury2=rectangle_centers_one[j][2]\n",
        "        manhattan_dist = abs(curx1 - curx2) + abs(cury1 - cury2)\n",
        "        curwirelen += manhattan_dist * adj[i-1][j-1] #as adj is 0 indexed.\n",
        "        st.add((i, j))\n",
        "    wirelength_total += curwirelen"
      ],
      "metadata": {
        "id": "Ssc5HSv9dGD2"
      },
      "execution_count": 326,
      "outputs": []
    },
    {
      "cell_type": "code",
      "source": [
        "def total_cost(wirelength,area):\n",
        "  global cost\n",
        "  cost=0\n",
        "  cost=0.75*wirelength+0.25*area"
      ],
      "metadata": {
        "id": "QQYftehok9Pp"
      },
      "execution_count": 331,
      "outputs": []
    },
    {
      "cell_type": "code",
      "source": [
        "def main():\n",
        "  file_path=\"/content/gdrive/MyDrive/test_data.txt\"\n",
        "  num_blocks, adj, blocks, polish_expression =take_input(file_path)\n",
        "  #finding xmax and ymax.\n",
        "  find_floorplan_area(polish_expression,num_blocks,blocks)\n",
        "  find_plot_limits(blocks)\n",
        "\n",
        "  print(\"Polish Expression:\", polish_expression)\n",
        "\n",
        "  print(\"Size of the minimum enclosing rectangle:\" ,area)\n",
        "  root_node = make_binary_tree(polish_expression,blocks)\n",
        "\n",
        "  fig, ax = plt.subplots()\n",
        "  details = plot_binary_tree(ax, root_node, 0, 0, 1)\n",
        "  plot_rectangle_centers(ax,rectangle_centers)\n",
        "  rectangle_centers_one = [()] + rectangle_centers\n",
        "  wirelength_estimation(rectangle_centers_one,adj)\n",
        "  ax.set_xlim(0, xmax+10)  # Adjust x-axis limits\n",
        "  ax.set_ylim(0,ymax+10)  # Adjust y-axis limits\n",
        "  ax.set_aspect('equal', adjustable='box')\n",
        "  plt.xlabel('X')\n",
        "  plt.ylabel('Y')\n",
        "  plt.title('Floorplan')\n",
        "  plt.grid(False)\n",
        "  plt.show()\n",
        "  print(\"Total Wirelength:\",wirelength_total)\n",
        "  total_cost(wirelength_total,area)\n",
        "  print(\"Total Cost:\",cost)\n",
        "  rectangle_centers.clear()#so it doesnt keep adding blocks everytime we call function.\n",
        "  #print(blocks)"
      ],
      "metadata": {
        "id": "As5e2TPcFzp9"
      },
      "execution_count": 336,
      "outputs": []
    },
    {
      "cell_type": "code",
      "source": [
        "main()"
      ],
      "metadata": {
        "colab": {
          "base_uri": "https://localhost:8080/",
          "height": 541
        },
        "id": "xTrY35bLdxxq",
        "outputId": "868a75f0-7b6a-4585-c06b-74654a252d1f"
      },
      "execution_count": 337,
      "outputs": [
        {
          "output_type": "stream",
          "name": "stdout",
          "text": [
            "Polish Expression: 1 2 V 3 H 4 5 6 V H 7 V H\n",
            "Size of the minimum enclosing rectangle: 1000.0\n"
          ]
        },
        {
          "output_type": "display_data",
          "data": {
            "text/plain": [
              "<Figure size 640x480 with 1 Axes>"
            ],
            "image/png": "[encoded data removed]"
          },
          "metadata": {}
        },
        {
          "output_type": "stream",
          "name": "stdout",
          "text": [
            "Total Wirelength: 735.0\n",
            "Total Cost: 801.25\n"
          ]
        }
      ]
    },
    {
      "cell_type": "code",
      "source": [],
      "metadata": {
        "id": "RZ-eYGLDhFCo"
      },
      "execution_count": 266,
      "outputs": []
    }
  ]
}